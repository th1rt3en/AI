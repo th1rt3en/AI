{
 "cells": [
  {
   "cell_type": "code",
   "execution_count": 29,
   "metadata": {},
   "outputs": [],
   "source": [
    "import numpy as np\n",
    "import scipy as sp\n",
    "import pandas as pd\n",
    "import matplotlib.pyplot as plt\n",
    "from sklearn import datasets, linear_model\n",
    "\n",
    "df = pd.read_csv(\"adult.csv\", names=[\"age\", \"workclass\", \"fnlwgt\", \"education\", \"education-num\", \"marital-status\", \"occupation\", \"relationship\", \"race\", \"sex\", \"capital-gain\", \"capital-loss\", \"hours-per-week\", \"native-country\", \"salary\"])\n"
   ]
  },
  {
   "cell_type": "code",
   "execution_count": 104,
   "metadata": {},
   "outputs": [
    {
     "name": "stdout",
     "output_type": "stream",
     "text": [
      "38.5816467553\n",
      "37.0\n",
      "36\n"
     ]
    }
   ],
   "source": [
    "print df['age'].mean()\n",
    "print df['age'].median()\n",
    "print sp.stats.mode(df['age'])[0][0]"
   ]
  },
  {
   "cell_type": "code",
   "execution_count": 106,
   "metadata": {},
   "outputs": [
    {
     "name": "stdout",
     "output_type": "stream",
     "text": [
      "10.0806793403\n",
      "10.0\n",
      "9\n"
     ]
    }
   ],
   "source": [
    "print df['education-num'].mean()\n",
    "print df['education-num'].median()\n",
    "print sp.stats.mode(df['education-num'])[0][0]"
   ]
  },
  {
   "cell_type": "code",
   "execution_count": 105,
   "metadata": {},
   "outputs": [
    {
     "name": "stdout",
     "output_type": "stream",
     "text": [
      "40.4374558521\n",
      "40.0\n",
      "40\n"
     ]
    }
   ],
   "source": [
    "print df['hours-per-week'].mean()\n",
    "print df['hours-per-week'].median()\n",
    "print sp.stats.mode(df['hours-per-week'])[0][0]"
   ]
  },
  {
   "cell_type": "code",
   "execution_count": 19,
   "metadata": {},
   "outputs": [
    {
     "name": "stdout",
     "output_type": "stream",
     "text": [
      "     education-num  hours-per-week\n",
      "age                               \n",
      "17        6.648101       21.367089\n",
      "18        8.152727       25.912727\n",
      "19        9.096910       30.678371\n",
      "20        9.345286       32.280212\n",
      "21        9.434722       34.034722\n"
     ]
    }
   ],
   "source": [
    "e3 = df.groupby('age').mean()[['education-num', 'hours-per-week']]\n",
    "print e3.head()"
   ]
  },
  {
   "cell_type": "code",
   "execution_count": 28,
   "metadata": {},
   "outputs": [
    {
     "data": {
      "image/png": "[encoded data removed]",
      "text/plain": [
       "<matplotlib.figure.Figure at 0xfd21828>"
      ]
     },
     "metadata": {},
     "output_type": "display_data"
    }
   ],
   "source": [
    "fig, ax1 = plt.subplots()\n",
    "ax2 = ax1.twinx()\n",
    "ax1.plot(e3.index, e3['education-num'], 'g-')\n",
    "ax2.plot(e3.index, e3['hours-per-week'], 'b-')\n",
    "ax1.set_xlabel('age')\n",
    "ax1.set_ylabel('education-num', color='g')\n",
    "ax2.set_ylabel('hours-per-week', color='b')\n",
    "plt.show()"
   ]
  },
  {
   "cell_type": "code",
   "execution_count": 84,
   "metadata": {},
   "outputs": [
    {
     "name": "stdout",
     "output_type": "stream",
     "text": [
      "a1 =  0.00688938878136  b1 =  9.81487537599\n",
      "Predicted education-num of a 21-year-old person:  9.9595525404\n",
      "a2 =  0.0622382165376  b2 =  38.036202967\n",
      "Predicted hours-per-week of a 21-year-old person who has 31 years in education-num:  39.3432055142\n"
     ]
    }
   ],
   "source": [
    "lm = linear_model.LinearRegression()\n",
    "model = lm.fit(df['age'].values.reshape(-1,1), df['education-num'])\n",
    "print \"a1 = \", lm.coef_[0], \" b1 = \", lm.intercept_\n",
    "print \"Predicted education-num of a 21-year-old person: \", model.predict(pd.DataFrame([[21]]))[0]\n",
    "\n",
    "lm = linear_model.LinearRegression()\n",
    "model = lm.fit(df['age'].values.reshape(-1,1), df['hours-per-week'])\n",
    "\n",
    "print \"a2 = \", lm.coef_[0], \" b2 = \", lm.intercept_\n",
    "print \"Predicted hours-per-week of a 21-year-old person: \", model.predict(pd.DataFrame([[21]]))[0]"
   ]
  },
  {
   "cell_type": "code",
   "execution_count": 107,
   "metadata": {},
   "outputs": [
    {
     "name": "stdout",
     "output_type": "stream",
     "text": [
      "a =  31.1679925104  b =  0.0574171902632  c =  0.699775615423\n",
      "Predicted hours-per-week of a 21-year-old person who has 31 years in education-num:  54.0667975841\n"
     ]
    }
   ],
   "source": [
    "lm = linear_model.LinearRegression()\n",
    "model = lm.fit(df[['age', 'education-num']].values.reshape(-1,2), df['hours-per-week'])\n",
    "print \"a = \", lm.intercept_, \" b = \", lm.coef_[0], \" c = \", lm.coef_[1]\n",
    "print \"Predicted hours-per-week of a 21-year-old person who has 31 years in education-num: \", model.predict(pd.DataFrame([[21, 31]]))[0]"
   ]
  },
  {
   "cell_type": "code",
   "execution_count": 149,
   "metadata": {},
   "outputs": [
    {
     "name": "stdout",
     "output_type": "stream",
     "text": [
      "Optimization terminated successfully.\n",
      "         Current function value: inf\n",
      "         Iterations 8\n",
      "                           Logit Regression Results                           \n",
      "==============================================================================\n",
      "Dep. Variable:                Class_4   No. Observations:                  699\n",
      "Model:                          Logit   Df Residuals:                      690\n",
      "Method:                           MLE   Df Model:                            8\n",
      "Date:                Mon, 19 Mar 2018   Pseudo R-squ.:                    -inf\n",
      "Time:                        21:10:00   Log-Likelihood:                   -inf\n",
      "converged:                       True   LL-Null:                       -75244.\n",
      "                                        LLR p-value:                     1.000\n",
      "===============================================================================================\n",
      "                                  coef    std err          z      P>|z|      [0.025      0.975]\n",
      "-----------------------------------------------------------------------------------------------\n",
      "Clump Thickness                -0.3365      0.057     -5.915      0.000      -0.448      -0.225\n",
      "Uniformity of Cell Size         0.9223      0.128      7.213      0.000       0.672       1.173\n",
      "Uniformity of Cell Shape        0.1888      0.108      1.752      0.080      -0.022       0.400\n",
      "Marginal Adhesion               0.1151      0.074      1.562      0.118      -0.029       0.260\n",
      "Single Epithelial Cell Size    -0.8097      0.101     -8.008      0.000      -1.008      -0.611\n",
      "Bare Nuclei                     0.5530      0.062      8.887      0.000       0.431       0.675\n",
      "Bland Chromatin                -0.5138      0.089     -5.765      0.000      -0.689      -0.339\n",
      "Normal Nucleoli                 0.3267      0.070      4.653      0.000       0.189       0.464\n",
      "Mitoses                        -0.2250      0.086     -2.615      0.009      -0.394      -0.056\n",
      "===============================================================================================\n"
     ]
    }
   ],
   "source": [
    "import statsmodels.api as sm\n",
    "\n",
    "df = pd.read_csv('breast.csv', index_col=0, names=['Clump Thickness', 'Uniformity of Cell Size', 'Uniformity of Cell Shape', 'Marginal Adhesion', 'Single Epithelial Cell Size', 'Bare Nuclei', 'Bland Chromatin', 'Normal Nucleoli', 'Mitoses', 'Class'])\n",
    "df = pd.get_dummies(df, columns=['Class'], drop_first = True)\n",
    "\n",
    "df['Bare Nuclei'] = pd.to_numeric(df['Bare Nuclei'], errors='coerce')\n",
    "df['Bare Nuclei'] = df['Bare Nuclei'].fillna(df['Bare Nuclei'].median())\n",
    "df['Bare Nuclei'] = df['Bare Nuclei'].astype(int)\n",
    "\n",
    "lgr = sm.Logit(df.loc[:, 'Class_4'], df.iloc[:, :9])\n",
    "result = lgr.fit()\n",
    "\n",
    "print result.summary()"
   ]
  }
 ],
 "metadata": {
  "kernelspec": {
   "display_name": "Python 2",
   "language": "python",
   "name": "python2"
  },
  "language_info": {
   "codemirror_mode": {
    "name": "ipython",
    "version": 2
   },
   "file_extension": ".py",
   "mimetype": "text/x-python",
   "name": "python",
   "nbconvert_exporter": "python",
   "pygments_lexer": "ipython2",
   "version": "2.7.14"
  }
 },
 "nbformat": 4,
 "nbformat_minor": 2
}
