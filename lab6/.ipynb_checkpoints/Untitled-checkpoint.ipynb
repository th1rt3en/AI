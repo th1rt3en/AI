{
 "cells": [
  {
   "cell_type": "code",
   "execution_count": 1,
   "metadata": {},
   "outputs": [
    {
     "data": {
      "text/plain": [
       "('iris.csv', <httplib.HTTPMessage instance at 0x00000000088251C8>)"
      ]
     },
     "execution_count": 1,
     "metadata": {},
     "output_type": "execute_result"
    }
   ],
   "source": [
    "from urllib import urlretrieve\n",
    "urlretrieve(\"https://archive.ics.uci.edu/ml/machine-learning-databases/iris/iris.data\", \"iris.csv\")"
   ]
  },
  {
   "cell_type": "code",
   "execution_count": 186,
   "metadata": {},
   "outputs": [],
   "source": [
    "import matplotlib.pyplot as plt\n",
    "import pandas as pd\n",
    "import numpy as np\n",
    "import seaborn as sns\n",
    "%matplotlib inline"
   ]
  },
  {
   "cell_type": "code",
   "execution_count": 187,
   "metadata": {},
   "outputs": [
    {
     "data": {
      "text/html": [
       "<div>\n",
       "<style>\n",
       "    .dataframe thead tr:only-child th {\n",
       "        text-align: right;\n",
       "    }\n",
       "\n",
       "    .dataframe thead th {\n",
       "        text-align: left;\n",
       "    }\n",
       "\n",
       "    .dataframe tbody tr th {\n",
       "        vertical-align: top;\n",
       "    }\n",
       "</style>\n",
       "<table border=\"1\" class=\"dataframe\">\n",
       "  <thead>\n",
       "    <tr style=\"text-align: right;\">\n",
       "      <th></th>\n",
       "      <th>label</th>\n",
       "      <th>x</th>\n",
       "      <th>y</th>\n",
       "    </tr>\n",
       "  </thead>\n",
       "  <tbody>\n",
       "    <tr>\n",
       "      <th>0</th>\n",
       "      <td>Iris-setosa</td>\n",
       "      <td>5.1</td>\n",
       "      <td>3.5</td>\n",
       "    </tr>\n",
       "    <tr>\n",
       "      <th>1</th>\n",
       "      <td>Iris-setosa</td>\n",
       "      <td>4.9</td>\n",
       "      <td>3.0</td>\n",
       "    </tr>\n",
       "    <tr>\n",
       "      <th>2</th>\n",
       "      <td>Iris-setosa</td>\n",
       "      <td>4.7</td>\n",
       "      <td>3.2</td>\n",
       "    </tr>\n",
       "    <tr>\n",
       "      <th>3</th>\n",
       "      <td>Iris-setosa</td>\n",
       "      <td>4.6</td>\n",
       "      <td>3.1</td>\n",
       "    </tr>\n",
       "    <tr>\n",
       "      <th>4</th>\n",
       "      <td>Iris-setosa</td>\n",
       "      <td>5.0</td>\n",
       "      <td>3.6</td>\n",
       "    </tr>\n",
       "  </tbody>\n",
       "</table>\n",
       "</div>"
      ],
      "text/plain": [
       "         label    x    y\n",
       "0  Iris-setosa  5.1  3.5\n",
       "1  Iris-setosa  4.9  3.0\n",
       "2  Iris-setosa  4.7  3.2\n",
       "3  Iris-setosa  4.6  3.1\n",
       "4  Iris-setosa  5.0  3.6"
      ]
     },
     "execution_count": 187,
     "metadata": {},
     "output_type": "execute_result"
    }
   ],
   "source": [
    "iris = pd.read_csv(\"iris.csv\", names=[\"sepal-length\",\"sepal-width\",\"petal-length\",\"petal-width\",\"class\"])\n",
    "\n",
    "x = np.array(iris.iloc[:,:-1])\n",
    "y = np.array(iris.iloc[:,-1])\n",
    "\n",
    "data = {'x':x[:,0],'y':x[:,1], 'label':y}\n",
    "df = pd.DataFrame(data=data)\n",
    "df.head()"
   ]
  },
  {
   "cell_type": "code",
   "execution_count": 180,
   "metadata": {},
   "outputs": [
    {
     "data": {
      "text/plain": [
       "Text(0.5,1,u'Thong ITITIU15001')"
      ]
     },
     "execution_count": 180,
     "metadata": {},
     "output_type": "execute_result"
    },
    {
     "data": {
      "image/png": "[encoded data removed]",
      "text/plain": [
       "<matplotlib.figure.Figure at 0x1894b7b8>"
      ]
     },
     "metadata": {},
     "output_type": "display_data"
    }
   ],
   "source": [
    "colors = {'Iris-setosa':'red','Iris-versicolor':'blue','Iris-virginica':'green'}\n",
    "for g in np.unique(y):\n",
    "    ix = np.where(y == g)\n",
    "    plt.scatter(x[ix,0], x[ix,1], c = colors[g], label = g)\n",
    "plt.legend()\n",
    "plt.title(\"Thong ITITIU15001\")"
   ]
  },
  {
   "cell_type": "code",
   "execution_count": 194,
   "metadata": {},
   "outputs": [
    {
     "data": {
      "text/plain": [
       "Text(0.5,1,u'Thong ITITIU15001')"
      ]
     },
     "execution_count": 194,
     "metadata": {},
     "output_type": "execute_result"
    },
    {
     "data": {
      "image/png": "[encoded data removed]",
      "text/plain": [
       "<matplotlib.figure.Figure at 0x151ca4e0>"
      ]
     },
     "metadata": {},
     "output_type": "display_data"
    }
   ],
   "source": [
    "from sklearn.mixture import GaussianMixture as GMM\n",
    "import matplotlib.patches as mpatches\n",
    "\n",
    "for i in range(1,10):\n",
    "    gmm = GMM(n_components=i, covariance_type='full').fit(x)\n",
    "    plt.bar(i - 0.4, gmm.bic(x), color = 'b', width = 0.2)\n",
    "    gmm = GMM(n_components=i, covariance_type='tied').fit(x)\n",
    "    plt.bar(i - 0.2, gmm.bic(x), color = 'g', width = 0.2)\n",
    "    gmm = GMM(n_components=i, covariance_type='diag').fit(x)\n",
    "    plt.bar(i + 0.0, gmm.bic(x), color = 'r', width = 0.2)\n",
    "    gmm = GMM(n_components=i, covariance_type='spherical').fit(x)\n",
    "    plt.bar(i + 0.2, gmm.bic(x), color = 'y', width = 0.2)\n",
    "    \n",
    "plt.legend(handles=[mpatches.Patch(color=a, label=b) for (a,b) in zip(['b','g','r','y'],['full','tied','diag','spherical'])])\n",
    "plt.xlabel(\"Components\")\n",
    "plt.ylabel(\"BIC\")\n",
    "plt.title(\"Thong ITITIU15001\")"
   ]
  },
  {
   "cell_type": "code",
   "execution_count": 200,
   "metadata": {},
   "outputs": [
    {
     "data": {
      "text/plain": [
       "Text(0.5,1,u'Thong ITITIU15001')"
      ]
     },
     "execution_count": 200,
     "metadata": {},
     "output_type": "execute_result"
    },
    {
     "data": {
      "image/png": "[encoded data removed]",
      "text/plain": [
       "<matplotlib.figure.Figure at 0x1a3c6e80>"
      ]
     },
     "metadata": {},
     "output_type": "display_data"
    }
   ],
   "source": [
    "from sklearn.metrics import adjusted_rand_score\n",
    "from sklearn.cluster import KMeans\n",
    "\n",
    "for i in range(1,10):\n",
    "    gmm = GMM(n_components=i, covariance_type='full').fit(x)\n",
    "    plt.bar(i - 0.3, adjusted_rand_score(y, gmm.predict(x)), color = 'b', width = 0.15)\n",
    "    gmm = GMM(n_components=i, covariance_type='tied').fit(x)\n",
    "    plt.bar(i - 0.15, adjusted_rand_score(y, gmm.predict(x)), color = 'g', width = 0.15)\n",
    "    gmm = GMM(n_components=i, covariance_type='diag').fit(x)\n",
    "    plt.bar(i + 0.0, adjusted_rand_score(y, gmm.predict(x)), color = 'r', width = 0.15)\n",
    "    gmm = GMM(n_components=i, covariance_type='spherical').fit(x)\n",
    "    plt.bar(i + 0.15, adjusted_rand_score(y, gmm.predict(x)), color = 'y', width = 0.15)\n",
    "    kmeans = KMeans(n_clusters=i, random_state=42).fit(x)\n",
    "    plt.bar(i + 0.3, adjusted_rand_score(y, kmeans.predict(x)), color = 'orange', width = 0.15)\n",
    "    \n",
    "plt.legend(handles=[mpatches.Patch(color=a, label=b) for (a,b) in zip(['b','g','r','y','orange'],['full','tied','diag','spherical','kMeans'])])\n",
    "plt.xlabel(\"Components\")\n",
    "plt.ylabel(\"Score\")\n",
    "plt.title(\"Thong ITITIU15001\")"
   ]
  }
 ],
 "metadata": {
  "kernelspec": {
   "display_name": "Python 2",
   "language": "python",
   "name": "python2"
  },
  "language_info": {
   "codemirror_mode": {
    "name": "ipython",
    "version": 2
   },
   "file_extension": ".py",
   "mimetype": "text/x-python",
   "name": "python",
   "nbconvert_exporter": "python",
   "pygments_lexer": "ipython2",
   "version": "2.7.14"
  }
 },
 "nbformat": 4,
 "nbformat_minor": 2
}
